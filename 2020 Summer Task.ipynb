{
 "cells": [
  {
   "cell_type": "code",
   "execution_count": null,
   "metadata": {},
   "outputs": [],
   "source": [
    "#1-1A\n",
    "print('Hello world')"
   ]
  },
  {
   "cell_type": "code",
   "execution_count": null,
   "metadata": {},
   "outputs": [],
   "source": [
    "#1-1B\n",
    "x = input()\n",
    "a = int(x)\n",
    "b = a\n",
    "n = 3\n",
    "if (1 < a < 100) :\n",
    "    for i in range(n-1) :\n",
    "        b *= a\n",
    "    print(b)"
   ]
  },
  {
   "cell_type": "code",
   "execution_count": null,
   "metadata": {},
   "outputs": [],
   "source": [
    "#1-1C\n",
    "a,b = (int(x) for x in input().split())\n",
    "if (1 < a < 100)and(1 < b < 100) :\n",
    "    print(a*b,a+b+a+b)"
   ]
  },
  {
   "cell_type": "code",
   "execution_count": null,
   "metadata": {},
   "outputs": [],
   "source": [
    "#1-1D\n",
    "S = int(input())\n",
    "if 0 <= S <= 86400 :\n",
    "    H = S//3600\n",
    "    M = (S%3600)//60\n",
    "    s = (S%3600)%60\n",
    "    print(H , M , s , sep = ':')"
   ]
  },
  {
   "cell_type": "code",
   "execution_count": null,
   "metadata": {},
   "outputs": [],
   "source": [
    "#1-2A\n",
    "a,b = (int(x) for x in input().split())\n",
    "if (-1000 < a < 1000)and(-1000 < b < 1000) :\n",
    "    if (a < b) :\n",
    "        print('a < b')\n",
    "    elif (a > b) :\n",
    "        print('a > b')\n",
    "    else :\n",
    "        print('a == b')"
   ]
  },
  {
   "cell_type": "code",
   "execution_count": null,
   "metadata": {},
   "outputs": [],
   "source": [
    "#1-2B\n",
    "a,b,c = (int(x) for x in input().split())\n",
    "if (0 < a < 100)and(0 < b < 100)and(0 < c < 100) :\n",
    "    if(a < b)and(b < c) :\n",
    "        print('Yes')\n",
    "    else :\n",
    "        print('No')         "
   ]
  },
  {
   "cell_type": "code",
   "execution_count": null,
   "metadata": {},
   "outputs": [],
   "source": [
    "#1-2C\n",
    "a,b,c = (int(x) for x in input().split())\n",
    "list = [a,b,c]\n",
    "if (1 <= a <= 10000)and(1 <= b <= 10000)and(1 <= c <= 10000) :\n",
    "    list.sort()\n",
    "    print(list)"
   ]
  },
  {
   "cell_type": "code",
   "execution_count": null,
   "metadata": {},
   "outputs": [],
   "source": [
    "#1-2D\n",
    "W,H,x,y,r = (int(x) for x in input().split())\n",
    "if(100<=x)and(y<=100)and(0<W,H)and(r<=100) :\n",
    "    if(r <= x <= W-r)and(r <= y <= H-r) :\n",
    "        print('Yes')\n",
    "    else :\n",
    "        print('No')"
   ]
  },
  {
   "cell_type": "code",
   "execution_count": null,
   "metadata": {},
   "outputs": [],
   "source": [
    "#1-3A\n",
    "count = 0\n",
    "while count < 1000 :\n",
    "    print('Hello world')\n",
    "    count += 1\n"
   ]
  },
  {
   "cell_type": "code",
   "execution_count": null,
   "metadata": {},
   "outputs": [],
   "source": [
    "#1-3B\n",
    "i = 1\n",
    "while i < 10001 :\n",
    "    x = int(input())\n",
    "    if (1 <= x <= 10000) :\n",
    "        print('Case',i,end='')\n",
    "        print(':',x)\n",
    "        i += 1\n",
    "    \n",
    "    "
   ]
  },
  {
   "cell_type": "code",
   "execution_count": null,
   "metadata": {},
   "outputs": [],
   "source": [
    "#1-3C\n",
    "count = 0\n",
    "while count < 3000 :\n",
    "    a,b = (int(x) for x in input().split())\n",
    "    list = [a,b]\n",
    "    if(0 <= a <= 10000)and(0 <= b <= 10000) :\n",
    "        if(a > b) :\n",
    "            newlist=sorted(list)\n",
    "            print(newlist)\n",
    "        elif(a < b) :\n",
    "            print(list)\n",
    "        elif(a == b) :\n",
    "            if(a == 0) :\n",
    "                break\n",
    "            else :\n",
    "                print(list) "
   ]
  },
  {
   "cell_type": "code",
   "execution_count": null,
   "metadata": {},
   "outputs": [],
   "source": [
    "#1-3D\n",
    "a,b,c = (int(x) for x in input().split())\n",
    "if(1<=a<=10000)and(1<=b<=10000)and(1<=c<=10000)and(a<=b) :\n",
    "    z = a\n",
    "    if(a<=z<=b) :\n",
    "        count = 0\n",
    "        while z <= b :\n",
    "            if(c%z==0) :\n",
    "                count += 1\n",
    "            z += 1\n",
    "        print(count)\n",
    "        "
   ]
  },
  {
   "cell_type": "code",
   "execution_count": null,
   "metadata": {},
   "outputs": [],
   "source": [
    "#1-4A\n",
    "a,b=(int(x) for x in input().split())\n",
    "if(1<=a<=1000000000)and(1<=b<=1000000000) :\n",
    "    d = a//b\n",
    "    r = a%b\n",
    "    f = a/b\n",
    "    if(0.00001<=f) :\n",
    "        print(d,r,f)\n",
    "    else :\n",
    "        print(d,r)\n",
    "    "
   ]
  },
  {
   "cell_type": "code",
   "execution_count": null,
   "metadata": {},
   "outputs": [],
   "source": [
    "#1-4B\n",
    "import math\n",
    "math.pi\n",
    "r = int(input())\n",
    "if(0<r<10000) :\n",
    "    circumference = 2*r*math.pi\n",
    "    area = r*r*math.pi\n",
    "    if(circumference<0.00001) :\n",
    "        print(area)\n",
    "    elif(area<0.00001) :\n",
    "        print(circumference)\n",
    "    elif(circumference<0.00001)and(area<0.00001) :\n",
    "        None\n",
    "    else :\n",
    "        print(area,circumference)\n",
    "        "
   ]
  },
  {
   "cell_type": "code",
   "execution_count": null,
   "metadata": {},
   "outputs": [],
   "source": [
    "#1-4C\n",
    "a,op,b=input().split()\n",
    "A = int(a)\n",
    "B = int(b)\n",
    "if(0<=A<=20000)and(0<=B<=20000) :\n",
    "    if(op=='+') :\n",
    "        x = A+B\n",
    "        print(x)\n",
    "    elif(op=='-') :\n",
    "        x = A-B\n",
    "        print(x)\n",
    "    elif(op=='*') :\n",
    "        x = A*B\n",
    "        print(x)\n",
    "    elif(op=='/')and(A!=0)and(B!=0) :\n",
    "        x = A/B\n",
    "        print(x)\n",
    "    elif(A==0)and(B==0)and(op=='/') :\n",
    "        None\n",
    "    elif(A==0)and(op=='/') :\n",
    "        None\n",
    "    elif(B==0)and(op=='/') :\n",
    "        None"
   ]
  },
  {
   "cell_type": "code",
   "execution_count": null,
   "metadata": {},
   "outputs": [],
   "source": [
    "#1-4D\n",
    "n = int(input())\n",
    "thelist = []\n",
    "if(0<n<=10000) :\n",
    "    thelist = input()\n",
    "    thelist = thelist.split()\n",
    "    thelist = [int(i) for i in thelist]\n",
    "    if(-1000000<=a)and(a<=1000000) :\n",
    "        print(max(thelist))\n",
    "        print(min(thelist))\n",
    "        print(sum(thelist))"
   ]
  },
  {
   "cell_type": "code",
   "execution_count": null,
   "metadata": {},
   "outputs": [],
   "source": [
    "#1-5A\n",
    "H,W=(int(x) for x in input().split())\n",
    "if(1<=H<=300)and(1<=W<=300) :\n",
    "    countH = 1\n",
    "    while countH <= H :\n",
    "        countH += 1\n",
    "        countW = 1\n",
    "        x = \"\"\n",
    "        while countW <= W :\n",
    "            countW += 1\n",
    "            x += \"#\"           \n",
    "        print(x)"
   ]
  },
  {
   "cell_type": "code",
   "execution_count": null,
   "metadata": {},
   "outputs": [],
   "source": [
    "#1-5B\n",
    "H,W=(int(x) for x in input().split())\n",
    "if(3<=H<=300)and(3<=W<=300) :\n",
    "    countW = 1\n",
    "    x = ''\n",
    "    while countW <= W :\n",
    "        countW += 1\n",
    "        x += '#'\n",
    "    print(x)  \n",
    "    countH = 1\n",
    "    while countH <= H - 2 :\n",
    "        countH += 1\n",
    "        countW =1\n",
    "        y = ''\n",
    "        while countW <= W-2 :\n",
    "            countW += 1\n",
    "            y += '.'\n",
    "        print('#'+y+'#')      \n",
    "    countW = 1\n",
    "    z = ''\n",
    "    while countW <= W :\n",
    "        countW += 1\n",
    "        z += '#'\n",
    "    print(z)\n",
    "elif (H == 0)and(W == 0) :\n",
    "    None"
   ]
  },
  {
   "cell_type": "code",
   "execution_count": null,
   "metadata": {},
   "outputs": [],
   "source": [
    "#1-5C\n",
    "H,W=(int(x) for x in input().split())\n",
    "if(1<=H<=300)and(1<=W<=300) :\n",
    "    if(H%2 == 0)and(H != 1) :\n",
    "        countH = 1\n",
    "        while countH <= H//2 :\n",
    "            countH += 1\n",
    "            if(W%2 == 0) :\n",
    "                countW = 1\n",
    "                x = ''\n",
    "                X = ''\n",
    "                while countW <= W//2:\n",
    "                    countW += 1\n",
    "                    x +='#'\n",
    "                    x += '.'\n",
    "                print(x)\n",
    "                countW = 1\n",
    "                while countW <= W//2:\n",
    "                    countW += 1\n",
    "                    X += '.'\n",
    "                    X += '#'\n",
    "                print(X)\n",
    "            elif(W%2 != 0) :\n",
    "                countW = 1\n",
    "                x = ''\n",
    "                X = ''\n",
    "                while countW <= W//2:\n",
    "                    countW += 1\n",
    "                    x +='#'\n",
    "                    x += '.'\n",
    "                print(x+'#')\n",
    "                countW = 1\n",
    "                while countW <= W//2:\n",
    "                    countW += 1\n",
    "                    X += '.'\n",
    "                    X += '#'\n",
    "                print(X+'.')\n",
    "            elif(H == 0)and(W == 0) :\n",
    "                None\n",
    "            else :\n",
    "                print('#')\n",
    "    elif(H%2 != 0)and(H != 1) :\n",
    "        countH = 1\n",
    "        while countH <= H//2 :\n",
    "            countH += 1\n",
    "            if(W%2 == 0) :\n",
    "                countW = 1\n",
    "                x = ''\n",
    "                X = ''\n",
    "                while countW <= W//2:\n",
    "                    countW += 1\n",
    "                    x +='#'\n",
    "                    x += '.'\n",
    "                print(x)\n",
    "                countW = 1\n",
    "                while countW <= W//2:\n",
    "                    countW += 1\n",
    "                    X += '.'\n",
    "                    X += '#'\n",
    "                print(X)\n",
    "            elif(W%2 != 0) :\n",
    "                countW = 1\n",
    "                x = ''\n",
    "                X = ''\n",
    "                while countW <= W//2:\n",
    "                    countW += 1\n",
    "                    x +='#'\n",
    "                    x += '.'\n",
    "                print(x+'#')\n",
    "                countW = 1\n",
    "                while countW <= W//2:\n",
    "                    countW += 1\n",
    "                    X += '.'\n",
    "                    X += '#'\n",
    "                print(X+'.')\n",
    "            elif(H == 0)and(W == 0) :\n",
    "                None\n",
    "        print(x)\n",
    "    elif(H == 1)and(W != 1) :\n",
    "        if(W%2 == 0) :\n",
    "            countW = 1\n",
    "            x = ''\n",
    "            X = ''\n",
    "            while countW <= W//2:\n",
    "                countW += 1\n",
    "                x +='#'\n",
    "                x += '.'\n",
    "            print(x)\n",
    "        elif(W%2 != 0)and(W != 1) :\n",
    "            countW = 1\n",
    "            x = ''\n",
    "            X = ''\n",
    "            while countW <= W//2:\n",
    "                countW += 1\n",
    "                x +='#'\n",
    "                x += '.'\n",
    "            print(x+'#')\n",
    "        elif(H == 0)and(W == 0) :\n",
    "            None\n",
    "    elif(H == 1)and(W == 1) :\n",
    "        print('#')"
   ]
  },
  {
   "cell_type": "code",
   "execution_count": null,
   "metadata": {},
   "outputs": [],
   "source": [
    "#1-5D\n",
    "n = int(input())\n",
    "thelist = []\n",
    "if(3 <= n <= 10000) :\n",
    "    count = 1\n",
    "    while count <=n :\n",
    "        if(count%3 == 0) :\n",
    "            thelist.append(count)\n",
    "            count += 1\n",
    "        elif(count%10 == 3) :\n",
    "            thelist.append(count)\n",
    "            count += 1\n",
    "        else :\n",
    "            count += 1\n",
    "    thelist = [str(i) for i in thelist]\n",
    "    list_str = ' '.join(thelist)\n",
    "    print(list_str)\n",
    "    "
   ]
  },
  {
   "cell_type": "code",
   "execution_count": null,
   "metadata": {},
   "outputs": [],
   "source": [
    "#1-6A\n",
    "n = int(input())\n",
    "thelist =[]\n",
    "if(n <= 100) :\n",
    "    thelist = input()\n",
    "    thelist = thelist.split()\n",
    "    a = len(thelist)\n",
    "    thelist = [int(i) for i in thelist]\n",
    "    if(a == n)and(0 <= a <1000) :\n",
    "        thelist.reverse()\n",
    "        print(thelist)\n",
    "    "
   ]
  },
  {
   "cell_type": "code",
   "execution_count": null,
   "metadata": {},
   "outputs": [],
   "source": [
    "#1-6B\n",
    "n = int(input())\n",
    "suitslist = ['S','H','C','D']\n",
    "cardslist = []\n",
    "if(n < 52) :\n",
    "    count = 1\n",
    "    while(count <= n) :\n",
    "        s,c =input().split()\n",
    "        if s==\"S\":\n",
    "            cardslist.append(int(c))   \n",
    "        elif s==\"H\":\n",
    "            cardslist.append(13+int(c))   \n",
    "        elif s==\"C\":\n",
    "            cardslist.append(26+int(c))\n",
    "        else:\n",
    "            cards.append(39+int(c)) \n",
    "        count += 1\n",
    "    for i in range(1,53):\n",
    "        if i not in cardslist:\n",
    "            print(suits[(i-1)//13],(i-1)%13+1)"
   ]
  },
  {
   "cell_type": "code",
   "execution_count": null,
   "metadata": {},
   "outputs": [],
   "source": [
    "#1-6C\n",
    "n=int(input())\n",
    "room=[[[0]*10 for _ in range(3)] for _ in range(4)]\n",
    "\n",
    "count = 1\n",
    "while count <= n :\n",
    "    b,f,r,v=map(int,input().split())\n",
    "    room[b-1][f-1][r-1]+=v\n",
    "    count += 1\n",
    "\n",
    "for i in range(4):\n",
    "    for j in range(3):\n",
    "        for k in range(10):\n",
    "            print(\" {}\".format(room[i][j][k]), end=\"\")\n",
    "        print()\n",
    "    if i!=3:\n",
    "        print(\"####################\")"
   ]
  },
  {
   "cell_type": "code",
   "execution_count": null,
   "metadata": {},
   "outputs": [],
   "source": [
    "#1-6D\n",
    "\n",
    "n,m=map(int,input().split())\n",
    "A=[list(map(int,input().split())) for i in range(n)]\n",
    "b=[int(input()) for i in range(m)]\n",
    "for i in range(n):\n",
    "    a=0\n",
    "    for j in range(m):\n",
    "        a = a + A[i][j]*b[j]\n",
    "    print(a)"
   ]
  },
  {
   "cell_type": "code",
   "execution_count": null,
   "metadata": {},
   "outputs": [],
   "source": [
    "#1-7A\n",
    "a,b,c = (int(x) for x in input().split())\n",
    "answer = a+b\n",
    "if(a == -1)or(b ==-1) :\n",
    "    print('F')\n",
    "elif (answer >= 80) :\n",
    "    print('A')\n",
    "elif (65 <= answer < 80) :\n",
    "    print('B')\n",
    "elif (50 <= answer < 65) :\n",
    "    print('C')\n",
    "elif (30 <= answer < 50)and(c >= 50) :\n",
    "    print('C')\n",
    "elif (30 <= answer < 50) :\n",
    "    print('D')\n",
    "elif (answer < 30) :\n",
    "    print('F')\n",
    "elif (a == -1)and(b == -1)and(c ==-1) :\n",
    "    None"
   ]
  },
  {
   "cell_type": "code",
   "execution_count": null,
   "metadata": {},
   "outputs": [],
   "source": [
    "#1-7B\n",
    "n,x = (int(i) for i in input().split())\n",
    "if (n == 0)and(x == 0) :\n",
    "    None\n",
    "count = 0\n",
    "for i in range(1,n-1):\n",
    "    for j in range(i+1,n):\n",
    "        if j<x-i-j<=n:\n",
    "            count+=1\n",
    "print(count)"
   ]
  },
  {
   "cell_type": "code",
   "execution_count": null,
   "metadata": {},
   "outputs": [],
   "source": [
    "#1-7C\n",
    "\n",
    "r,c = (int(x) for x in input().split())\n",
    "a = [list(map(int,input().split())) for i in range(r)]\n",
    "for i in range(r):\n",
    "    a[i].append(sum(a[i]))\n",
    "Column_sum=[0]*(c+1)\n",
    "for j in range(c+1):\n",
    "    for i in range(r):\n",
    "        Column_sum[j]+=a[i][j]\n",
    "\n",
    "for i in range(r):\n",
    "    print(*a[i])\n",
    "print(*Column_sum)"
   ]
  },
  {
   "cell_type": "code",
   "execution_count": null,
   "metadata": {},
   "outputs": [],
   "source": [
    "#1-7D\n",
    "\n",
    "n,m,l= (int(x) for x in input().split())\n",
    "A = [list(map(int,input().split())) for i in range(n)]\n",
    "B = [list(map(int,input().split())) for i in range(m)]\n",
    "\n",
    "C=[]\n",
    "for i in range(n):\n",
    "    line=[]\n",
    "    for j in range(l):\n",
    "        c=0\n",
    "        for k in range(m):\n",
    "            c+=A[i][k]*B[k][j]\n",
    "        line.append(c)\n",
    "    C.append(line)\n",
    "\n",
    "for line in C:\n",
    "    print(*line)"
   ]
  },
  {
   "cell_type": "code",
   "execution_count": null,
   "metadata": {},
   "outputs": [],
   "source": [
    "#1-8A\n",
    "n = input()\n",
    "n = n.lower()\n",
    "print(n)"
   ]
  },
  {
   "cell_type": "code",
   "execution_count": null,
   "metadata": {},
   "outputs": [],
   "source": [
    "#1-8B\n",
    "n = input()\n",
    "n = (int(i) for i in n)\n",
    "n = list(n)\n",
    "ans=0\n",
    "for j in n:\n",
    "    ans+= j\n",
    "print(ans)"
   ]
  },
  {
   "cell_type": "code",
   "execution_count": null,
   "metadata": {},
   "outputs": [],
   "source": [
    "#1-8C\n",
    "n = input()\n",
    "n = n.lower()\n",
    "n = list(n)\n",
    "samplelist = list('abcdefghijklmnopqrstuvwxyz')\n",
    "count = [0]*26\n",
    "for x in n:\n",
    "    i=0\n",
    "    for y in samplelist:\n",
    "        if x==y:\n",
    "            count[i]+=1\n",
    "        i+=1\n",
    "for i in range(26):\n",
    "    print(samplelist[i]+\" : \"+str(count[i]))   "
   ]
  },
  {
   "cell_type": "code",
   "execution_count": null,
   "metadata": {},
   "outputs": [],
   "source": [
    "#1-8D\n",
    "s = input()\n",
    "p = input()\n",
    "s *= 2\n",
    "if(1 <= len(p))and(len(p) <= len(s))and(len(s) <= 100) :\n",
    "    if s.find(p)!=-1:\n",
    "        print(\"Yes\")\n",
    "    else :\n",
    "        print(\"No\")"
   ]
  },
  {
   "cell_type": "code",
   "execution_count": null,
   "metadata": {},
   "outputs": [],
   "source": [
    "#1-9A\n",
    "word=input()\n",
    "text = input()\n",
    "text = text.lower()\n",
    "text = text.split()\n",
    "text = list(text)\n",
    "print(text.count(word))"
   ]
  },
  {
   "cell_type": "code",
   "execution_count": null,
   "metadata": {},
   "outputs": [],
   "source": [
    "#1-9B\n",
    "while True :\n",
    "    card = input()\n",
    "    if card == \"-\" :\n",
    "        break\n",
    "    n = int(input())\n",
    "    for i in range(n) :\n",
    "        sh = int(input())\n",
    "        a = card[:sh]\n",
    "        b = card[sh:]\n",
    "        card = a + b\n",
    "    print(card)"
   ]
  },
  {
   "cell_type": "code",
   "execution_count": null,
   "metadata": {},
   "outputs": [],
   "source": [
    "#1-9C\n",
    "n = int(input())\n",
    "Taro = 0\n",
    "Hanako = 0\n",
    "count = 1\n",
    "while count <= n :\n",
    "    card_t,card_h = input().split()\n",
    "    if card_t == card_h :\n",
    "        Taro += 1\n",
    "        Hanako += 1\n",
    "    else :\n",
    "        if card_h > card_t :\n",
    "            Hanako += 3\n",
    "        else:\n",
    "            Taro += 3\n",
    "    count += 1\n",
    "print(Taro,Hanako)"
   ]
  },
  {
   "cell_type": "code",
   "execution_count": null,
   "metadata": {},
   "outputs": [],
   "source": [
    "#1-9D\n",
    "text = input()\n",
    "n = int(input())\n",
    "count = 1\n",
    "while count <= n :\n",
    "    order = input()\n",
    "    order = order.split()\n",
    "    a,b = map(int,order[1:3])\n",
    "    if order[0] == \"print\" :\n",
    "        print(text[a:b+1])\n",
    "    elif order[0] == \"reverse\" :\n",
    "        re_text = text[a:b+1]\n",
    "        text = text[:a] + re_text[::-1] + text[b+1:]\n",
    "    elif order[0] == \"replace\" :\n",
    "        text = text[:a] + order[3] + text[b+1:]\n",
    "    count += 1"
   ]
  },
  {
   "cell_type": "code",
   "execution_count": null,
   "metadata": {},
   "outputs": [],
   "source": [
    "#1-10A\n",
    "x1,y1,x2,y2 = map(float,input().split())\n",
    "print(((x1-x2) ** 2 + (y1-y2) ** 2) ** 0.5)"
   ]
  },
  {
   "cell_type": "code",
   "execution_count": null,
   "metadata": {},
   "outputs": [],
   "source": [
    "#1-10B\n",
    "import math\n",
    "a,b,C = map(float,input().split())\n",
    "θ = math.radians(C)\n",
    "h = b * math.sin(θ)\n",
    "c = math.sqrt(a ** 2 + b ** 2 - 2 * a * b * math.cos(θ))\n",
    "S = (a * h) / 2\n",
    "L = a + b + c\n",
    "print(S,L,h,sep = \"\\n\")"
   ]
  },
  {
   "cell_type": "code",
   "execution_count": 3,
   "metadata": {},
   "outputs": [
    {
     "name": "stdout",
     "output_type": "stream",
     "text": [
      "5\n",
      "70 80 100 90 20\n",
      "27.85677655436824\n",
      "0\n"
     ]
    }
   ],
   "source": [
    "#1-10C\n",
    "while True:\n",
    "    n=int(input())\n",
    "    if(n == 0) :\n",
    "        break\n",
    "    elif(n <= 100) :\n",
    "        s = list(map(int,input().split()))\n",
    "        a = sum(s) / n\n",
    "        v_sum = 0\n",
    "        for i in range(n):\n",
    "            v_sum += (s[i] - a) ** 2\n",
    "        print((v_sum / n) ** 0.5)"
   ]
  },
  {
   "cell_type": "code",
   "execution_count": 4,
   "metadata": {},
   "outputs": [
    {
     "name": "stdout",
     "output_type": "stream",
     "text": [
      "3\n",
      "1 2 3\n",
      "2 0 4\n",
      "4.0\n",
      "2.449489742783178\n",
      "2.154434690031884\n",
      "2\n"
     ]
    }
   ],
   "source": [
    "#1-10D\n",
    "def Distance(X,Y,p):\n",
    "    s=0\n",
    "    for x,y in zip(X,Y):\n",
    "        s+=abs(x-y)**p\n",
    "    print(s**(1/p))\n",
    "\n",
    "n=int(input())\n",
    "X=list(map(int,input().split()))\n",
    "Y=list(map(int,input().split()))\n",
    "\n",
    "for p in range(1,4):\n",
    "    Distance(X,Y,p)\n",
    "print(max(abs(x-y) for x,y in zip(X,Y)))"
   ]
  },
  {
   "cell_type": "code",
   "execution_count": 26,
   "metadata": {},
   "outputs": [],
   "source": [
    "#1-11A Class\n",
    "class Dice:\n",
    "    def __init__(self, ary): \n",
    "        self.__top = ary[0]\n",
    "        self.__fro = ary[1]\n",
    "        self.__rit = ary[2]\n",
    "        self.__lft = ary[3]\n",
    "        self.__bak = ary[4]\n",
    "        self.__btm = ary[5]\n",
    "\n",
    "    def turn_e(self): \n",
    "        self.__top, self.__lft, self.__btm, self.__rit = \\\n",
    "        self.__lft, self.__btm, self.__rit, self.__top\n",
    "\n",
    "    def turn_s(self): \n",
    "        self.__top, self.__fro, self.__btm, self.__bak = \\\n",
    "        self.__bak, self.__top, self.__fro, self.__btm\n",
    "\n",
    "    def turn_w(self): \n",
    "        self.__top, self.__lft, self.__btm, self.__rit = \\\n",
    "        self.__rit, self.__top, self.__lft, self.__btm\n",
    "\n",
    "    def turn_n(self): \n",
    "        self.__top, self.__fro, self.__btm, self.__bak = \\\n",
    "        self.__fro, self.__btm, self.__bak, self.__top\n",
    "\n",
    "    def spin_r(self): \n",
    "        self.__rit, self.__fro, self.__lft, self.__bak = \\\n",
    "        self.__bak, self.__rit, self.__fro, self.__lft\n",
    "\n",
    "    def spin_l(self): \n",
    "        self.__rit, self.__fro, self.__lft, self.__bak = \\\n",
    "        self.__fro, self.__lft, self.__bak, self.__rit\n",
    "        \n",
    "    def is_same_setting(self, ary): \n",
    "        if self.__top == ary[0] and self.__fro == ary[1] and self.__rit == ary[2] and \\\n",
    "            self.__lft == ary[3] and self.__bak == ary[4] and self.__btm == ary[5]:\n",
    "            return True\n",
    "\n",
    "    def is_same_dice(self, ary): \n",
    "        is_same = False\n",
    "        for _ in range(2):\n",
    "            for _ in range(3):\n",
    "                for _ in range(4):\n",
    "                    if self.is_same_setting(ary):\n",
    "                        is_same = True\n",
    "                    self.spin_r()\n",
    "                self.turn_n()\n",
    "            self.spin_r()\n",
    "            self.turn_s()\n",
    "        return is_same\n",
    "\n",
    "    def show_top(self): \n",
    "        return self.__top\n",
    "\n",
    "    def top_fro_right(self, ary): \n",
    "        right = 0  \n",
    "        for _ in range(2):\n",
    "            for _ in range(3):\n",
    "                for _ in range(4):\n",
    "                    if self.is_same_top_fro(ary):  \n",
    "                        right = self.__rit  \n",
    "                    self.spin_r()\n",
    "                self.turn_n()\n",
    "            self.spin_r()\n",
    "            self.turn_s()\n",
    "        return right \n",
    "    \n",
    "    def is_same_top_fro(self, ary):  \n",
    "        if ary[0] == self.__top and ary[1] == self.__fro: \n",
    "            return True  "
   ]
  },
  {
   "cell_type": "code",
   "execution_count": 15,
   "metadata": {},
   "outputs": [
    {
     "name": "stdout",
     "output_type": "stream",
     "text": [
      "1 2 4 8 16 32\n",
      "SE\n",
      "8\n"
     ]
    }
   ],
   "source": [
    "#1-11A\n",
    "a = map(int,input().split())\n",
    "a = list(a)\n",
    "b = input()\n",
    "b = list(b)\n",
    "dice = Dice(a)\n",
    "\n",
    "for i in b:\n",
    "    if i == \"E\":\n",
    "        dice.turn_e()\n",
    "    if i == \"N\":\n",
    "        dice.turn_n()\n",
    "    if i == \"S\":\n",
    "        dice.turn_s()\n",
    "    if i == \"W\":\n",
    "        dice.turn_w()\n",
    "\n",
    "print(dice.show_top())"
   ]
  },
  {
   "cell_type": "code",
   "execution_count": 28,
   "metadata": {},
   "outputs": [
    {
     "name": "stdout",
     "output_type": "stream",
     "text": [
      "1 2 3 4 5 6\n",
      "3\n",
      "6 5\n",
      "3\n",
      "1 3\n",
      "5\n",
      "3 2\n",
      "6\n"
     ]
    }
   ],
   "source": [
    "#1-11B\n",
    "a = list(map(int,input().split()))\n",
    "q = int(input())\n",
    "\n",
    "dice = Dice(a)\n",
    "\n",
    "for _ in range(q):\n",
    "    b = list(map(int,input().split()))\n",
    "    c = dice.top_fro_right(b)\n",
    "    print(c)"
   ]
  },
  {
   "cell_type": "code",
   "execution_count": 30,
   "metadata": {},
   "outputs": [
    {
     "name": "stdout",
     "output_type": "stream",
     "text": [
      "1 2 3 4 5 6\n",
      "6 2 4 3 5 1\n",
      "Yes\n"
     ]
    }
   ],
   "source": [
    "#1-11C\n",
    "a = list(map(int,input().split()))\n",
    "b = list(map(int,input().split()))\n",
    "\n",
    "dice = Dice(a)\n",
    "\n",
    "if dice.is_same_dice(b) :\n",
    "    print('Yes')\n",
    "else:\n",
    "    print('No')"
   ]
  },
  {
   "cell_type": "code",
   "execution_count": 31,
   "metadata": {},
   "outputs": [
    {
     "name": "stdout",
     "output_type": "stream",
     "text": [
      "3\n",
      "1 2 3 4 5 6\n",
      "6 5 4 3 2 1\n",
      "5 4 3 2 1 6\n",
      "Yes\n"
     ]
    }
   ],
   "source": [
    "#1-11D\n",
    "n = int(input())\n",
    "a = [None] * n\n",
    "for i in range(n):\n",
    "    a[i] = list(map(int,input().split()))\n",
    "\n",
    "for i in range(n-1):\n",
    "    for j in range(i+1, n):\n",
    "        dice = Dice(a[i])\n",
    "        if dice.is_same_dice(a[j]):\n",
    "            print('No')\n",
    "            break\n",
    "    else:\n",
    "        continue\n",
    "    break\n",
    "else:\n",
    "    print('Yes')"
   ]
  }
 ],
 "metadata": {
  "kernelspec": {
   "display_name": "Python 3",
   "language": "python",
   "name": "python3"
  },
  "language_info": {
   "codemirror_mode": {
    "name": "ipython",
    "version": 3
   },
   "file_extension": ".py",
   "mimetype": "text/x-python",
   "name": "python",
   "nbconvert_exporter": "python",
   "pygments_lexer": "ipython3",
   "version": "3.7.6"
  }
 },
 "nbformat": 4,
 "nbformat_minor": 4
}
